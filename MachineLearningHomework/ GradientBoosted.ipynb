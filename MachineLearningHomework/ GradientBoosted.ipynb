{
 "cells": [
  {
   "cell_type": "code",
   "execution_count": 9,
   "id": "79ecf5da-ca5d-4691-96c9-552039ac4b84",
   "metadata": {},
   "outputs": [],
   "source": [
    "import numpy as np\n",
    "import pandas as pd\n",
    "from sklearn.model_selection import train_test_split, GridSearchCV\n",
    "from sklearn.metrics import mean_squared_error, r2_score\n",
    "import matplotlib.pyplot as plt\n",
    "from sklearn.preprocessing import scale\n",
    "from sklearn.preprocessing import StandardScaler\n",
    "from sklearn import model_selection\n",
    "from sklearn.linear_model import LinearRegression\n",
    "from sklearn.tree import DecisionTreeRegressor\n",
    "from sklearn.neighbors import KNeighborsRegressor\n",
    "from sklearn.neural_network import MLPRegressor\n",
    "from sklearn.ensemble import RandomForestRegressor\n",
    "from sklearn.ensemble import GradientBoostingClassifier\n",
    "from sklearn import neighbors\n",
    "from sklearn.svm import SVR\n",
    "from sklearn.ensemble import RandomForestClassifier\n",
    "from sklearn.metrics import accuracy_score,classification_report\n",
    "from sklearn import metrics"
   ]
  },
  {
   "cell_type": "code",
   "execution_count": 10,
   "id": "b22628b1-bfda-4d99-b7cb-d1f14f9e873c",
   "metadata": {},
   "outputs": [],
   "source": [
    "from warnings import filterwarnings\n",
    "filterwarnings('ignore')"
   ]
  },
  {
   "cell_type": "code",
   "execution_count": 11,
   "id": "11a753ca-1462-4791-ab48-2b46b84c413b",
   "metadata": {},
   "outputs": [],
   "source": [
    "df=pd.read_csv('./covid19_dataset.csv')\n",
    "df=df.fillna(df.mean())\n",
    "y=df[\"INTUBATION\"]\n",
    "z=df[\"INTENSIVE CARE\"]\n",
    "ID=df[\"ID\"]\n",
    "X=df.drop([\"INTUBATION\",\"INTENSIVE CARE\",\"ID\"],axis=1)\n"
   ]
  },
  {
   "cell_type": "code",
   "execution_count": 12,
   "id": "e6b66608-65e8-49e2-b896-3a6b81098fc5",
   "metadata": {},
   "outputs": [
    {
     "data": {
      "text/plain": [
       "NO     1350\n",
       "YES      89\n",
       "Name: INTUBATION, dtype: int64"
      ]
     },
     "execution_count": 12,
     "metadata": {},
     "output_type": "execute_result"
    }
   ],
   "source": [
    "df[\"INTUBATION\"].value_counts()"
   ]
  },
  {
   "cell_type": "code",
   "execution_count": 13,
   "id": "47d1a1a6-b605-495e-a239-f9ffdc98eb41",
   "metadata": {},
   "outputs": [
    {
     "data": {
      "text/html": [
       "<div>\n",
       "<style scoped>\n",
       "    .dataframe tbody tr th:only-of-type {\n",
       "        vertical-align: middle;\n",
       "    }\n",
       "\n",
       "    .dataframe tbody tr th {\n",
       "        vertical-align: top;\n",
       "    }\n",
       "\n",
       "    .dataframe thead th {\n",
       "        text-align: right;\n",
       "    }\n",
       "</style>\n",
       "<table border=\"1\" class=\"dataframe\">\n",
       "  <thead>\n",
       "    <tr style=\"text-align: right;\">\n",
       "      <th></th>\n",
       "      <th>ID</th>\n",
       "      <th>HEIGHT</th>\n",
       "      <th>WEIGHT</th>\n",
       "      <th>INTENSIVE CARE</th>\n",
       "      <th>INTUBATION</th>\n",
       "      <th>WBC 1</th>\n",
       "      <th>NE# 1</th>\n",
       "      <th>LY# 1</th>\n",
       "      <th>MO# 1</th>\n",
       "      <th>EO# 1</th>\n",
       "      <th>...</th>\n",
       "      <th>SEDIM 1</th>\n",
       "      <th>PT 1</th>\n",
       "      <th>APTT 1</th>\n",
       "      <th>INR 1</th>\n",
       "      <th>D-DIMER 1</th>\n",
       "      <th>FIBRINOGEN 1</th>\n",
       "      <th>PROCALCITONIN 1</th>\n",
       "      <th>IgA 1</th>\n",
       "      <th>IgM 1</th>\n",
       "      <th>IgG 1</th>\n",
       "    </tr>\n",
       "  </thead>\n",
       "  <tbody>\n",
       "    <tr>\n",
       "      <th>0</th>\n",
       "      <td>1</td>\n",
       "      <td>164.580078</td>\n",
       "      <td>74.953488</td>\n",
       "      <td>NO</td>\n",
       "      <td>NO</td>\n",
       "      <td>9.08</td>\n",
       "      <td>5.27</td>\n",
       "      <td>2.99</td>\n",
       "      <td>0.55</td>\n",
       "      <td>0.21</td>\n",
       "      <td>...</td>\n",
       "      <td>0</td>\n",
       "      <td>0.0</td>\n",
       "      <td>0.0</td>\n",
       "      <td>0.0</td>\n",
       "      <td>0</td>\n",
       "      <td>0</td>\n",
       "      <td>0.0</td>\n",
       "      <td>0.0</td>\n",
       "      <td>0.0</td>\n",
       "      <td>0.0</td>\n",
       "    </tr>\n",
       "    <tr>\n",
       "      <th>1</th>\n",
       "      <td>2</td>\n",
       "      <td>174.000000</td>\n",
       "      <td>87.000000</td>\n",
       "      <td>NO</td>\n",
       "      <td>NO</td>\n",
       "      <td>11.31</td>\n",
       "      <td>7.86</td>\n",
       "      <td>2.81</td>\n",
       "      <td>0.48</td>\n",
       "      <td>0.12</td>\n",
       "      <td>...</td>\n",
       "      <td>0</td>\n",
       "      <td>0.0</td>\n",
       "      <td>0.0</td>\n",
       "      <td>0.0</td>\n",
       "      <td>0</td>\n",
       "      <td>0</td>\n",
       "      <td>0.0</td>\n",
       "      <td>0.0</td>\n",
       "      <td>0.0</td>\n",
       "      <td>0.0</td>\n",
       "    </tr>\n",
       "    <tr>\n",
       "      <th>2</th>\n",
       "      <td>4</td>\n",
       "      <td>182.000000</td>\n",
       "      <td>93.000000</td>\n",
       "      <td>NO</td>\n",
       "      <td>NO</td>\n",
       "      <td>12.42</td>\n",
       "      <td>7.05</td>\n",
       "      <td>4.16</td>\n",
       "      <td>0.90</td>\n",
       "      <td>0.25</td>\n",
       "      <td>...</td>\n",
       "      <td>0</td>\n",
       "      <td>0.0</td>\n",
       "      <td>0.0</td>\n",
       "      <td>0.0</td>\n",
       "      <td>0</td>\n",
       "      <td>0</td>\n",
       "      <td>0.0</td>\n",
       "      <td>0.0</td>\n",
       "      <td>0.0</td>\n",
       "      <td>0.0</td>\n",
       "    </tr>\n",
       "    <tr>\n",
       "      <th>3</th>\n",
       "      <td>6</td>\n",
       "      <td>164.580078</td>\n",
       "      <td>74.953488</td>\n",
       "      <td>NO</td>\n",
       "      <td>NO</td>\n",
       "      <td>8.19</td>\n",
       "      <td>5.25</td>\n",
       "      <td>2.03</td>\n",
       "      <td>0.53</td>\n",
       "      <td>0.29</td>\n",
       "      <td>...</td>\n",
       "      <td>0</td>\n",
       "      <td>0.0</td>\n",
       "      <td>0.0</td>\n",
       "      <td>0.0</td>\n",
       "      <td>0</td>\n",
       "      <td>0</td>\n",
       "      <td>0.0</td>\n",
       "      <td>0.0</td>\n",
       "      <td>0.0</td>\n",
       "      <td>0.0</td>\n",
       "    </tr>\n",
       "    <tr>\n",
       "      <th>4</th>\n",
       "      <td>12</td>\n",
       "      <td>164.580078</td>\n",
       "      <td>74.953488</td>\n",
       "      <td>NO</td>\n",
       "      <td>NO</td>\n",
       "      <td>9.56</td>\n",
       "      <td>7.25</td>\n",
       "      <td>0.94</td>\n",
       "      <td>1.08</td>\n",
       "      <td>0.25</td>\n",
       "      <td>...</td>\n",
       "      <td>0</td>\n",
       "      <td>0.0</td>\n",
       "      <td>0.0</td>\n",
       "      <td>0.0</td>\n",
       "      <td>0</td>\n",
       "      <td>0</td>\n",
       "      <td>0.0</td>\n",
       "      <td>0.0</td>\n",
       "      <td>0.0</td>\n",
       "      <td>0.0</td>\n",
       "    </tr>\n",
       "  </tbody>\n",
       "</table>\n",
       "<p>5 rows × 37 columns</p>\n",
       "</div>"
      ],
      "text/plain": [
       "   ID      HEIGHT     WEIGHT INTENSIVE CARE INTUBATION  WBC 1  NE# 1  LY# 1  \\\n",
       "0   1  164.580078  74.953488             NO         NO   9.08   5.27   2.99   \n",
       "1   2  174.000000  87.000000             NO         NO  11.31   7.86   2.81   \n",
       "2   4  182.000000  93.000000             NO         NO  12.42   7.05   4.16   \n",
       "3   6  164.580078  74.953488             NO         NO   8.19   5.25   2.03   \n",
       "4  12  164.580078  74.953488             NO         NO   9.56   7.25   0.94   \n",
       "\n",
       "   MO# 1  EO# 1  ...  SEDIM 1  PT 1  APTT 1  INR 1  D-DIMER 1  FIBRINOGEN 1  \\\n",
       "0   0.55   0.21  ...        0   0.0     0.0    0.0          0             0   \n",
       "1   0.48   0.12  ...        0   0.0     0.0    0.0          0             0   \n",
       "2   0.90   0.25  ...        0   0.0     0.0    0.0          0             0   \n",
       "3   0.53   0.29  ...        0   0.0     0.0    0.0          0             0   \n",
       "4   1.08   0.25  ...        0   0.0     0.0    0.0          0             0   \n",
       "\n",
       "   PROCALCITONIN 1  IgA 1  IgM 1  IgG 1  \n",
       "0              0.0    0.0    0.0    0.0  \n",
       "1              0.0    0.0    0.0    0.0  \n",
       "2              0.0    0.0    0.0    0.0  \n",
       "3              0.0    0.0    0.0    0.0  \n",
       "4              0.0    0.0    0.0    0.0  \n",
       "\n",
       "[5 rows x 37 columns]"
      ]
     },
     "execution_count": 13,
     "metadata": {},
     "output_type": "execute_result"
    }
   ],
   "source": [
    "df[\"INTENSIVE CARE\"].value_counts()\n",
    "df.head()"
   ]
  },
  {
   "cell_type": "markdown",
   "id": "018464ba-497e-47c5-a8f8-786cc4561e98",
   "metadata": {},
   "source": [
    "## INTUBATION"
   ]
  },
  {
   "cell_type": "code",
   "execution_count": 14,
   "id": "75675d79-a647-48d4-937e-e7ab4f7d25ed",
   "metadata": {},
   "outputs": [],
   "source": [
    "X_train, X_test, y_train, y_test = train_test_split(X,y,test_size=0.25,random_state=42)"
   ]
  },
  {
   "cell_type": "code",
   "execution_count": 15,
   "id": "a6e61490-4b75-46a6-90d7-597a977004ec",
   "metadata": {},
   "outputs": [],
   "source": [
    "rf_model = GradientBoostingClassifier(random_state=42).fit(X_train, y_train)"
   ]
  },
  {
   "cell_type": "code",
   "execution_count": 16,
   "id": "2d7a2ab2-303f-4f3e-8f22-87cfbe9c1924",
   "metadata": {},
   "outputs": [
    {
     "data": {
      "text/plain": [
       "GradientBoostingClassifier(random_state=42)"
      ]
     },
     "execution_count": 16,
     "metadata": {},
     "output_type": "execute_result"
    }
   ],
   "source": [
    "rf_model"
   ]
  },
  {
   "cell_type": "markdown",
   "id": "393128cd-15ce-4b69-94d6-82d9a0c0cbe2",
   "metadata": {},
   "source": [
    "## Model Tuning"
   ]
  },
  {
   "cell_type": "code",
   "execution_count": 17,
   "id": "198579e7-e9a7-4455-a1d5-ccdbe4e0bd7d",
   "metadata": {},
   "outputs": [],
   "source": [
    "rf_params={\"max_depth\":[5,8,10],\n",
    "          \"max_features\":[2,5,10],\n",
    "          \"n_estimators\":[200,500,1000,2000],\n",
    "          \"min_samples_split\":[2,10,80,100]}"
   ]
  },
  {
   "cell_type": "code",
   "execution_count": 18,
   "id": "c5d8cd42-4dbb-477f-b5c4-e913c8be8211",
   "metadata": {},
   "outputs": [
    {
     "name": "stdout",
     "output_type": "stream",
     "text": [
      "Fitting 10 folds for each of 144 candidates, totalling 1440 fits\n"
     ]
    }
   ],
   "source": [
    "rf_cv_model=GridSearchCV(rf_model,rf_params, cv=10,n_jobs=-1,verbose=2).fit(X_train,y_train)"
   ]
  },
  {
   "cell_type": "code",
   "execution_count": null,
   "id": "4f4423ff-8350-46ee-99ab-6776dde3ee33",
   "metadata": {},
   "outputs": [],
   "source": []
  }
 ],
 "metadata": {
  "kernelspec": {
   "display_name": "Python 3",
   "language": "python",
   "name": "python3"
  },
  "language_info": {
   "codemirror_mode": {
    "name": "ipython",
    "version": 3
   },
   "file_extension": ".py",
   "mimetype": "text/x-python",
   "name": "python",
   "nbconvert_exporter": "python",
   "pygments_lexer": "ipython3",
   "version": "3.8.7"
  }
 },
 "nbformat": 4,
 "nbformat_minor": 5
}
