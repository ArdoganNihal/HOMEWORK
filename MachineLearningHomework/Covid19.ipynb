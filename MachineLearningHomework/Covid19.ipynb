{
 "cells": [
  {
   "cell_type": "code",
   "execution_count": 1,
   "id": "7e3aeb94-60df-4195-b875-b413e00adc91",
   "metadata": {},
   "outputs": [],
   "source": [
    "import numpy as np\n",
    "import pandas as pd\n",
    "from sklearn.model_selection import train_test_split, GridSearchCV\n",
    "from sklearn.metrics import mean_squared_error, r2_score\n",
    "import matplotlib.pyplot as plt\n",
    "from sklearn.preprocessing import scale\n",
    "from sklearn.preprocessing import StandardScaler\n",
    "from sklearn import model_selection\n",
    "from sklearn.linear_model import LinearRegression\n",
    "from sklearn.tree import DecisionTreeRegressor\n",
    "from sklearn.neighbors import KNeighborsRegressor\n",
    "from sklearn.neural_network import MLPRegressor\n",
    "from sklearn.ensemble import RandomForestRegressor\n",
    "from sklearn.ensemble import GradientBoostingRegressor\n",
    "from sklearn import neighbors\n",
    "from sklearn.svm import SVR\n",
    "from sklearn.ensemble import RandomForestClassifier\n",
    "from sklearn.metrics import accuracy_score,classification_report\n",
    "from sklearn import metrics"
   ]
  },
  {
   "cell_type": "code",
   "execution_count": 2,
   "id": "28ff82a0-09d0-4093-9722-a2969f8b92b6",
   "metadata": {},
   "outputs": [],
   "source": [
    "from warnings import filterwarnings\n",
    "filterwarnings('ignore')"
   ]
  },
  {
   "cell_type": "code",
   "execution_count": 3,
   "id": "1f5e473e-06b6-48e6-b209-eb67c1b2fb0f",
   "metadata": {},
   "outputs": [
    {
     "data": {
      "text/plain": [
       "NO     1350\n",
       "YES      89\n",
       "Name: INTUBATION, dtype: int64"
      ]
     },
     "execution_count": 3,
     "metadata": {},
     "output_type": "execute_result"
    }
   ],
   "source": [
    "df=pd.read_csv('./covid19_dataset.csv')\n",
    "df=df.fillna(df.mean())\n",
    "y=df[\"INTUBATION\"]\n",
    "z=df[\"INTENSIVE CARE\"]\n",
    "ID=df[\"ID\"]\n",
    "X=df.drop([\"INTUBATION\",\"INTENSIVE CARE\",\"ID\"],axis=1)\n",
    "df[\"INTUBATION\"].value_counts()\n"
   ]
  },
  {
   "cell_type": "code",
   "execution_count": 4,
   "id": "85761de4-dab8-4433-828a-d9b52bb18dee",
   "metadata": {},
   "outputs": [
    {
     "data": {
      "text/plain": [
       "<bound method NDFrame.head of         ID      HEIGHT     WEIGHT INTENSIVE CARE INTUBATION  WBC 1  NE# 1  \\\n",
       "0        1  164.580078  74.953488             NO         NO   9.08   5.27   \n",
       "1        2  174.000000  87.000000             NO         NO  11.31   7.86   \n",
       "2        4  182.000000  93.000000             NO         NO  12.42   7.05   \n",
       "3        6  164.580078  74.953488             NO         NO   8.19   5.25   \n",
       "4       12  164.580078  74.953488             NO         NO   9.56   7.25   \n",
       "...    ...         ...        ...            ...        ...    ...    ...   \n",
       "1434  3650  164.580078  74.953488             NO         NO   7.23   3.27   \n",
       "1435  3651  164.580078  74.953488             NO         NO  10.31   6.68   \n",
       "1436  3652  164.580078  74.953488             NO         NO   7.77   6.65   \n",
       "1437  3653  164.580078  74.953488             NO         NO   3.71   2.78   \n",
       "1438  3654  164.580078  74.953488             NO         NO  11.52   9.34   \n",
       "\n",
       "      LY# 1  MO# 1  EO# 1  ...  SEDIM 1  PT 1  APTT 1  INR 1  D-DIMER 1  \\\n",
       "0      2.99   0.55   0.21  ...        0   0.0     0.0   0.00          0   \n",
       "1      2.81   0.48   0.12  ...        0   0.0     0.0   0.00          0   \n",
       "2      4.16   0.90   0.25  ...        0   0.0     0.0   0.00          0   \n",
       "3      2.03   0.53   0.29  ...        0   0.0     0.0   0.00          0   \n",
       "4      0.94   1.08   0.25  ...        0   0.0     0.0   0.00          0   \n",
       "...     ...    ...    ...  ...      ...   ...     ...    ...        ...   \n",
       "1434   3.15   0.60   0.15  ...        0  15.6    26.3   1.22        590   \n",
       "1435   2.73   0.75   0.12  ...        0   0.0     0.0   0.00          0   \n",
       "1436   0.65   0.45   0.00  ...       64   0.0     0.0   0.00          0   \n",
       "1437   0.64   0.29   0.00  ...       32   0.0    31.9   0.00        670   \n",
       "1438   1.44   0.70   0.10  ...       26   0.0     0.0   0.00          0   \n",
       "\n",
       "      FIBRINOGEN 1  PROCALCITONIN 1  IgA 1  IgM 1  IgG 1  \n",
       "0                0             0.00    0.0    0.0    0.0  \n",
       "1                0             0.00    0.0    0.0    0.0  \n",
       "2                0             0.00    0.0    0.0    0.0  \n",
       "3                0             0.00    0.0    0.0    0.0  \n",
       "4                0             0.00    0.0    0.0    0.0  \n",
       "...            ...              ...    ...    ...    ...  \n",
       "1434          3250             0.00    0.0    0.0    0.0  \n",
       "1435             0             0.11    0.0    0.0    0.0  \n",
       "1436             0             0.00    0.0    0.0    0.0  \n",
       "1437          4830             0.05    0.0    0.0    0.0  \n",
       "1438             0             0.08    0.0    0.0    0.0  \n",
       "\n",
       "[1439 rows x 37 columns]>"
      ]
     },
     "execution_count": 4,
     "metadata": {},
     "output_type": "execute_result"
    }
   ],
   "source": [
    "df[\"INTENSIVE CARE\"].value_counts()\n",
    "df.head"
   ]
  },
  {
   "cell_type": "markdown",
   "id": "8aa70bb7-57f8-4fcb-a2eb-6441fd7377fc",
   "metadata": {},
   "source": [
    "## INTUBATION"
   ]
  },
  {
   "cell_type": "code",
   "execution_count": 5,
   "id": "66b9f5d7-2862-41de-a924-11fcaaf11dd9",
   "metadata": {},
   "outputs": [],
   "source": [
    "X_train, X_test, y_train, y_test = train_test_split(X,y,test_size=0.25,random_state=42)"
   ]
  },
  {
   "cell_type": "code",
   "execution_count": 6,
   "id": "d06fafe2-5091-430e-b24c-9eecf8990db0",
   "metadata": {},
   "outputs": [],
   "source": [
    "rf_model = RandomForestClassifier(random_state=42).fit(X_train, y_train)"
   ]
  },
  {
   "cell_type": "code",
   "execution_count": 7,
   "id": "952f408f-65e2-474a-9160-8b4d01ab22bf",
   "metadata": {},
   "outputs": [
    {
     "data": {
      "text/plain": [
       "RandomForestClassifier(random_state=42)"
      ]
     },
     "execution_count": 7,
     "metadata": {},
     "output_type": "execute_result"
    }
   ],
   "source": [
    "rf_model"
   ]
  },
  {
   "cell_type": "markdown",
   "id": "608cd28d-3463-425e-9b93-76f581a732aa",
   "metadata": {},
   "source": [
    "## Model Tuning"
   ]
  },
  {
   "cell_type": "code",
   "execution_count": 8,
   "id": "27049760-3186-4686-b1a7-ae6aee073559",
   "metadata": {},
   "outputs": [],
   "source": [
    "rf_params={\"max_depth\":[5,8,10],\n",
    "          \"max_features\":[2,5,10],\n",
    "          \"n_estimators\":[200,500,1000,2000],\n",
    "          \"min_samples_split\":[2,10,80,100]}"
   ]
  },
  {
   "cell_type": "code",
   "execution_count": 9,
   "id": "14e015a6-12ca-4a31-a851-cadac3ae623f",
   "metadata": {},
   "outputs": [
    {
     "name": "stdout",
     "output_type": "stream",
     "text": [
      "Fitting 10 folds for each of 144 candidates, totalling 1440 fits\n"
     ]
    }
   ],
   "source": [
    "rf_cv_model=GridSearchCV(rf_model,rf_params, cv=10,n_jobs=-1,verbose=2).fit(X_train,y_train)"
   ]
  },
  {
   "cell_type": "code",
   "execution_count": 10,
   "id": "25ecd1d4-5684-4729-998e-7d4886c0e831",
   "metadata": {},
   "outputs": [
    {
     "data": {
      "text/plain": [
       "{'max_depth': 8,\n",
       " 'max_features': 2,\n",
       " 'min_samples_split': 2,\n",
       " 'n_estimators': 2000}"
      ]
     },
     "execution_count": 10,
     "metadata": {},
     "output_type": "execute_result"
    }
   ],
   "source": [
    "rf_cv_model.best_params_"
   ]
  },
  {
   "cell_type": "code",
   "execution_count": 11,
   "id": "3123a84f-1c2e-4ddf-9209-ff94ce177ad4",
   "metadata": {},
   "outputs": [],
   "source": [
    "rf_model = RandomForestClassifier(random_state=42,\n",
    "                                max_depth=8,\n",
    "                                max_features=2,\n",
    "                                min_samples_split=2,\n",
    "                                n_estimators=2000)\n",
    "rf_tuned=rf_model.fit(X_train, y_train)"
   ]
  },
  {
   "cell_type": "code",
   "execution_count": 18,
   "id": "5a0c8743-bff0-4e7c-86c5-18259923f915",
   "metadata": {},
   "outputs": [
    {
     "data": {
      "text/plain": [
       "RandomForestClassifier(max_depth=8, max_features=2, n_estimators=2000,\n",
       "                       random_state=42)"
      ]
     },
     "execution_count": 18,
     "metadata": {},
     "output_type": "execute_result"
    }
   ],
   "source": [
    "rf_tuned"
   ]
  },
  {
   "cell_type": "code",
   "execution_count": 19,
   "id": "1e13d3d7-08c9-488e-a5d2-2ed0717b126d",
   "metadata": {},
   "outputs": [],
   "source": [
    "y_pred =rf_tuned.predict(X_test)\n",
    "final=pd.DataFrame({'INTUBATION':y_test, 'INTUBATION_PREDICT':y_pred})"
   ]
  },
  {
   "cell_type": "code",
   "execution_count": 20,
   "id": "7d65350e-8ba7-4c62-bff2-9d0db98a250c",
   "metadata": {},
   "outputs": [
    {
     "data": {
      "text/html": [
       "<div>\n",
       "<style scoped>\n",
       "    .dataframe tbody tr th:only-of-type {\n",
       "        vertical-align: middle;\n",
       "    }\n",
       "\n",
       "    .dataframe tbody tr th {\n",
       "        vertical-align: top;\n",
       "    }\n",
       "\n",
       "    .dataframe thead th {\n",
       "        text-align: right;\n",
       "    }\n",
       "</style>\n",
       "<table border=\"1\" class=\"dataframe\">\n",
       "  <thead>\n",
       "    <tr style=\"text-align: right;\">\n",
       "      <th></th>\n",
       "      <th>INTUBATION</th>\n",
       "      <th>INTUBATION_PREDICT</th>\n",
       "    </tr>\n",
       "  </thead>\n",
       "  <tbody>\n",
       "    <tr>\n",
       "      <th>168</th>\n",
       "      <td>NO</td>\n",
       "      <td>NO</td>\n",
       "    </tr>\n",
       "    <tr>\n",
       "      <th>605</th>\n",
       "      <td>NO</td>\n",
       "      <td>NO</td>\n",
       "    </tr>\n",
       "    <tr>\n",
       "      <th>548</th>\n",
       "      <td>NO</td>\n",
       "      <td>NO</td>\n",
       "    </tr>\n",
       "    <tr>\n",
       "      <th>65</th>\n",
       "      <td>NO</td>\n",
       "      <td>NO</td>\n",
       "    </tr>\n",
       "    <tr>\n",
       "      <th>628</th>\n",
       "      <td>NO</td>\n",
       "      <td>NO</td>\n",
       "    </tr>\n",
       "  </tbody>\n",
       "</table>\n",
       "</div>"
      ],
      "text/plain": [
       "    INTUBATION INTUBATION_PREDICT\n",
       "168         NO                 NO\n",
       "605         NO                 NO\n",
       "548         NO                 NO\n",
       "65          NO                 NO\n",
       "628         NO                 NO"
      ]
     },
     "execution_count": 20,
     "metadata": {},
     "output_type": "execute_result"
    }
   ],
   "source": [
    "final.head()"
   ]
  },
  {
   "cell_type": "code",
   "execution_count": 22,
   "id": "434cf7fc-250c-4af3-95c4-6e1559f2598b",
   "metadata": {},
   "outputs": [
    {
     "data": {
      "text/plain": [
       "array([[339,   1],\n",
       "       [ 17,   3]], dtype=int64)"
      ]
     },
     "execution_count": 22,
     "metadata": {},
     "output_type": "execute_result"
    }
   ],
   "source": [
    "confusion = metrics.confusion_matrix(final.INTUBATION, final.INTUBATION_PREDICT)\n",
    "confusion"
   ]
  },
  {
   "cell_type": "code",
   "execution_count": 23,
   "id": "a899f1a5-469e-482c-813c-2396d3db12f7",
   "metadata": {},
   "outputs": [],
   "source": [
    "TP = confusion[1,1] # true positive \n",
    "TN = confusion[0,0] # true negatives\n",
    "FP = confusion[0,1] # false positives\n",
    "FN = confusion[1,0] # false negatives"
   ]
  },
  {
   "cell_type": "code",
   "execution_count": 24,
   "id": "b796969a-6ccc-4d23-bf59-ed0306a522de",
   "metadata": {},
   "outputs": [
    {
     "data": {
      "text/plain": [
       "0.15"
      ]
     },
     "execution_count": 24,
     "metadata": {},
     "output_type": "execute_result"
    }
   ],
   "source": [
    "\"Senvitiy:\" \n",
    "TP / float(TP+FN)"
   ]
  },
  {
   "cell_type": "code",
   "execution_count": 25,
   "id": "15c0f87f-185e-4721-adc1-3c081f591062",
   "metadata": {},
   "outputs": [
    {
     "data": {
      "text/plain": [
       "0.9970588235294118"
      ]
     },
     "execution_count": 25,
     "metadata": {},
     "output_type": "execute_result"
    }
   ],
   "source": [
    "\"Specificity:\"\n",
    "TN / float(TN+FP)"
   ]
  },
  {
   "cell_type": "code",
   "execution_count": 26,
   "id": "f24cdca8-2703-499a-a13e-805869cb39d2",
   "metadata": {},
   "outputs": [],
   "source": [
    "cl_report= classification_report(y_test,y_pred)"
   ]
  },
  {
   "cell_type": "code",
   "execution_count": 27,
   "id": "2020297f-192c-45ed-bd16-6a5cab2036dd",
   "metadata": {},
   "outputs": [
    {
     "name": "stdout",
     "output_type": "stream",
     "text": [
      "              precision    recall  f1-score   support\n",
      "\n",
      "          NO       0.95      1.00      0.97       340\n",
      "         YES       0.75      0.15      0.25        20\n",
      "\n",
      "    accuracy                           0.95       360\n",
      "   macro avg       0.85      0.57      0.61       360\n",
      "weighted avg       0.94      0.95      0.93       360\n",
      "\n"
     ]
    }
   ],
   "source": [
    "print(cl_report)"
   ]
  },
  {
   "cell_type": "markdown",
   "id": "215754c2-5919-4139-8f31-5da07e7b5049",
   "metadata": {},
   "source": [
    "## INTENSIVE CARE"
   ]
  },
  {
   "cell_type": "code",
   "execution_count": 28,
   "id": "3385e792-4c7d-468a-8397-f4ea4d5ab148",
   "metadata": {},
   "outputs": [],
   "source": [
    "X_train, X_test, z_train, z_test = train_test_split(X,z,test_size=0.25,random_state=42)"
   ]
  },
  {
   "cell_type": "code",
   "execution_count": 29,
   "id": "d36dda0e-e840-4daa-a41b-511e3ba87bd9",
   "metadata": {},
   "outputs": [
    {
     "data": {
      "text/plain": [
       "RandomForestClassifier(random_state=42)"
      ]
     },
     "execution_count": 29,
     "metadata": {},
     "output_type": "execute_result"
    }
   ],
   "source": [
    "rf_modelIC = RandomForestClassifier(random_state=42).fit(X_train, z_train)\n",
    "rf_modelIC"
   ]
  },
  {
   "cell_type": "code",
   "execution_count": 30,
   "id": "adf82b22-ef3d-4b80-930d-3075ca39c78f",
   "metadata": {},
   "outputs": [],
   "source": [
    "rfIC_params={\"max_depth\":[5,8,10],\n",
    "          \"max_features\":[2,5,10],\n",
    "          \"n_estimators\":[200,500,1000,2000],\n",
    "          \"min_samples_split\":[2,10,80,100]}"
   ]
  },
  {
   "cell_type": "code",
   "execution_count": 31,
   "id": "da35c794-315f-4e98-80cc-5de9bac47e1f",
   "metadata": {},
   "outputs": [
    {
     "name": "stdout",
     "output_type": "stream",
     "text": [
      "Fitting 10 folds for each of 144 candidates, totalling 1440 fits\n"
     ]
    }
   ],
   "source": [
    "rf_cv_modelIC=GridSearchCV(rf_modelIC,rfIC_params, cv=10,n_jobs=-1,verbose=2).fit(X_train,z_train)"
   ]
  },
  {
   "cell_type": "code",
   "execution_count": 32,
   "id": "f9986bd3-78cb-49f9-b2ee-861c973e57ce",
   "metadata": {},
   "outputs": [
    {
     "data": {
      "text/plain": [
       "{'max_depth': 8,\n",
       " 'max_features': 10,\n",
       " 'min_samples_split': 10,\n",
       " 'n_estimators': 1000}"
      ]
     },
     "execution_count": 32,
     "metadata": {},
     "output_type": "execute_result"
    }
   ],
   "source": [
    "rf_cv_modelIC.best_params_"
   ]
  },
  {
   "cell_type": "code",
   "execution_count": 33,
   "id": "c13a8c86-a872-4918-8494-74e79c176914",
   "metadata": {},
   "outputs": [
    {
     "name": "stdout",
     "output_type": "stream",
     "text": [
      "Fitting 10 folds for each of 144 candidates, totalling 1440 fits\n"
     ]
    }
   ],
   "source": [
    "rf_modelIC = RandomForestClassifier(random_state=42,\n",
    "                                max_depth=8,\n",
    "                                max_features=10,\n",
    "                                min_samples_split=10,\n",
    "                                n_estimators=2000)\n",
    "rfIC_tuned=rf_cv_modelIC.fit(X_train, z_train)"
   ]
  },
  {
   "cell_type": "code",
   "execution_count": 34,
   "id": "7ac6c016-2437-43f3-abec-05b35887493f",
   "metadata": {},
   "outputs": [
    {
     "data": {
      "text/plain": [
       "GridSearchCV(cv=10, estimator=RandomForestClassifier(random_state=42),\n",
       "             n_jobs=-1,\n",
       "             param_grid={'max_depth': [5, 8, 10], 'max_features': [2, 5, 10],\n",
       "                         'min_samples_split': [2, 10, 80, 100],\n",
       "                         'n_estimators': [200, 500, 1000, 2000]},\n",
       "             verbose=2)"
      ]
     },
     "execution_count": 34,
     "metadata": {},
     "output_type": "execute_result"
    }
   ],
   "source": [
    "rfIC_tuned"
   ]
  },
  {
   "cell_type": "code",
   "execution_count": 35,
   "id": "288d1bd4-380e-407b-b3d7-521ea856d15f",
   "metadata": {},
   "outputs": [],
   "source": [
    "z_pred =rfIC_tuned.predict(X_test)\n",
    "finalIC=pd.DataFrame({'INTENSIVECARE':z_test, 'INTENSIVECARE_PREDICT':z_pred})"
   ]
  },
  {
   "cell_type": "code",
   "execution_count": 36,
   "id": "cf810fed-e971-4492-b650-3987291b7d02",
   "metadata": {},
   "outputs": [
    {
     "data": {
      "text/html": [
       "<div>\n",
       "<style scoped>\n",
       "    .dataframe tbody tr th:only-of-type {\n",
       "        vertical-align: middle;\n",
       "    }\n",
       "\n",
       "    .dataframe tbody tr th {\n",
       "        vertical-align: top;\n",
       "    }\n",
       "\n",
       "    .dataframe thead th {\n",
       "        text-align: right;\n",
       "    }\n",
       "</style>\n",
       "<table border=\"1\" class=\"dataframe\">\n",
       "  <thead>\n",
       "    <tr style=\"text-align: right;\">\n",
       "      <th></th>\n",
       "      <th>INTENSIVECARE</th>\n",
       "      <th>INTENSIVECARE_PREDICT</th>\n",
       "    </tr>\n",
       "  </thead>\n",
       "  <tbody>\n",
       "    <tr>\n",
       "      <th>168</th>\n",
       "      <td>NO</td>\n",
       "      <td>NO</td>\n",
       "    </tr>\n",
       "    <tr>\n",
       "      <th>605</th>\n",
       "      <td>NO</td>\n",
       "      <td>NO</td>\n",
       "    </tr>\n",
       "    <tr>\n",
       "      <th>548</th>\n",
       "      <td>NO</td>\n",
       "      <td>NO</td>\n",
       "    </tr>\n",
       "    <tr>\n",
       "      <th>65</th>\n",
       "      <td>NO</td>\n",
       "      <td>NO</td>\n",
       "    </tr>\n",
       "    <tr>\n",
       "      <th>628</th>\n",
       "      <td>NO</td>\n",
       "      <td>NO</td>\n",
       "    </tr>\n",
       "    <tr>\n",
       "      <th>...</th>\n",
       "      <td>...</td>\n",
       "      <td>...</td>\n",
       "    </tr>\n",
       "    <tr>\n",
       "      <th>100</th>\n",
       "      <td>NO</td>\n",
       "      <td>NO</td>\n",
       "    </tr>\n",
       "    <tr>\n",
       "      <th>382</th>\n",
       "      <td>NO</td>\n",
       "      <td>NO</td>\n",
       "    </tr>\n",
       "    <tr>\n",
       "      <th>618</th>\n",
       "      <td>NO</td>\n",
       "      <td>NO</td>\n",
       "    </tr>\n",
       "    <tr>\n",
       "      <th>1078</th>\n",
       "      <td>NO</td>\n",
       "      <td>NO</td>\n",
       "    </tr>\n",
       "    <tr>\n",
       "      <th>1192</th>\n",
       "      <td>NO</td>\n",
       "      <td>NO</td>\n",
       "    </tr>\n",
       "  </tbody>\n",
       "</table>\n",
       "<p>360 rows × 2 columns</p>\n",
       "</div>"
      ],
      "text/plain": [
       "     INTENSIVECARE INTENSIVECARE_PREDICT\n",
       "168             NO                    NO\n",
       "605             NO                    NO\n",
       "548             NO                    NO\n",
       "65              NO                    NO\n",
       "628             NO                    NO\n",
       "...            ...                   ...\n",
       "100             NO                    NO\n",
       "382             NO                    NO\n",
       "618             NO                    NO\n",
       "1078            NO                    NO\n",
       "1192            NO                    NO\n",
       "\n",
       "[360 rows x 2 columns]"
      ]
     },
     "execution_count": 36,
     "metadata": {},
     "output_type": "execute_result"
    }
   ],
   "source": [
    "finalIC"
   ]
  },
  {
   "cell_type": "code",
   "execution_count": 37,
   "id": "9685e3a5-88a1-48cf-8da3-aed2815b40be",
   "metadata": {},
   "outputs": [
    {
     "data": {
      "text/plain": [
       "array([[313,   6],\n",
       "       [ 22,  19]], dtype=int64)"
      ]
     },
     "execution_count": 37,
     "metadata": {},
     "output_type": "execute_result"
    }
   ],
   "source": [
    "confusion = metrics.confusion_matrix(finalIC.INTENSIVECARE, finalIC.INTENSIVECARE_PREDICT)\n",
    "confusion"
   ]
  },
  {
   "cell_type": "code",
   "execution_count": 38,
   "id": "74666503-8d08-4a5b-8c30-9aa09012bba9",
   "metadata": {},
   "outputs": [],
   "source": [
    "TP = confusion[1,1] # true positive \n",
    "TN = confusion[0,0] # true negatives\n",
    "FP = confusion[0,1] # false positives\n",
    "FN = confusion[1,0] # false negatives"
   ]
  },
  {
   "cell_type": "code",
   "execution_count": 39,
   "id": "8e9acfa2-a8cc-4d6b-814d-7b12a530e97a",
   "metadata": {},
   "outputs": [
    {
     "data": {
      "text/plain": [
       "0.4634146341463415"
      ]
     },
     "execution_count": 39,
     "metadata": {},
     "output_type": "execute_result"
    }
   ],
   "source": [
    "\"Senvitiy:\" \n",
    "TP / float(TP+FN)"
   ]
  },
  {
   "cell_type": "code",
   "execution_count": 40,
   "id": "d475a950-c33c-4f15-a5fe-e78fa8289603",
   "metadata": {},
   "outputs": [
    {
     "data": {
      "text/plain": [
       "0.9811912225705329"
      ]
     },
     "execution_count": 40,
     "metadata": {},
     "output_type": "execute_result"
    }
   ],
   "source": [
    "\"Specificity:\"\n",
    "TN / float(TN+FP)"
   ]
  },
  {
   "cell_type": "code",
   "execution_count": null,
   "id": "05860013-9bab-41ab-b990-4612cc2d74fb",
   "metadata": {},
   "outputs": [],
   "source": []
  }
 ],
 "metadata": {
  "kernelspec": {
   "display_name": "Python 3",
   "language": "python",
   "name": "python3"
  },
  "language_info": {
   "codemirror_mode": {
    "name": "ipython",
    "version": 3
   },
   "file_extension": ".py",
   "mimetype": "text/x-python",
   "name": "python",
   "nbconvert_exporter": "python",
   "pygments_lexer": "ipython3",
   "version": "3.8.7"
  }
 },
 "nbformat": 4,
 "nbformat_minor": 5
}
