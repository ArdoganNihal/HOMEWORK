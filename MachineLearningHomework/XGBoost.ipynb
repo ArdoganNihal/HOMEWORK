{
 "cells": [
  {
   "cell_type": "code",
   "execution_count": 2,
   "id": "8617fd7a-05cb-4e15-a1e5-ac94c8b5aa08",
   "metadata": {},
   "outputs": [],
   "source": [
    "import numpy as np\n",
    "import pandas as pd\n",
    "from sklearn.model_selection import train_test_split, GridSearchCV\n",
    "from sklearn.metrics import mean_squared_error, r2_score\n",
    "import matplotlib.pyplot as plt\n",
    "from sklearn.preprocessing import scale\n",
    "from sklearn.preprocessing import StandardScaler\n",
    "from sklearn import model_selection\n",
    "from sklearn.linear_model import LinearRegression\n",
    "from sklearn.tree import DecisionTreeRegressor\n",
    "from sklearn.neighbors import KNeighborsRegressor\n",
    "from sklearn.neural_network import MLPRegressor\n",
    "from sklearn.ensemble import RandomForestRegressor\n",
    "from sklearn.ensemble import GradientBoostingClassifier\n",
    "from sklearn import neighbors\n",
    "from sklearn.svm import SVR\n",
    "from sklearn.ensemble import RandomForestClassifier\n",
    "from sklearn.metrics import accuracy_score,classification_report\n",
    "from sklearn import metrics\n",
    "from xgboost import XGBClassifier"
   ]
  },
  {
   "cell_type": "code",
   "execution_count": 3,
   "id": "2387977f-709c-477b-898c-433f34996595",
   "metadata": {},
   "outputs": [],
   "source": [
    "from warnings import filterwarnings\n",
    "filterwarnings('ignore')"
   ]
  },
  {
   "cell_type": "code",
   "execution_count": 4,
   "id": "44cf8155-6a58-452e-904e-06c9fe57c1e7",
   "metadata": {},
   "outputs": [],
   "source": [
    "df=pd.read_csv('./covid19_dataset.csv')\n",
    "df=df.fillna(df.mean())\n",
    "y=df[\"INTUBATION\"]\n",
    "z=df[\"INTENSIVE CARE\"]\n",
    "ID=df[\"ID\"]\n",
    "X=df.drop([\"INTUBATION\",\"INTENSIVE CARE\",\"ID\"],axis=1)"
   ]
  },
  {
   "cell_type": "code",
   "execution_count": 5,
   "id": "c44e7a8f-d878-4274-9446-fcc6f4d8c71b",
   "metadata": {},
   "outputs": [
    {
     "data": {
      "text/plain": [
       "NO     1350\n",
       "YES      89\n",
       "Name: INTUBATION, dtype: int64"
      ]
     },
     "execution_count": 5,
     "metadata": {},
     "output_type": "execute_result"
    }
   ],
   "source": [
    "df[\"INTUBATION\"].value_counts()"
   ]
  },
  {
   "cell_type": "code",
   "execution_count": 6,
   "id": "d67e3783-368c-45be-85e4-d0a447b20601",
   "metadata": {},
   "outputs": [
    {
     "data": {
      "text/plain": [
       "NO     1270\n",
       "YES     169\n",
       "Name: INTENSIVE CARE, dtype: int64"
      ]
     },
     "execution_count": 6,
     "metadata": {},
     "output_type": "execute_result"
    }
   ],
   "source": [
    "df[\"INTENSIVE CARE\"].value_counts()"
   ]
  },
  {
   "cell_type": "code",
   "execution_count": 7,
   "id": "93e18190-97ac-4fca-8328-9d449c824f82",
   "metadata": {},
   "outputs": [
    {
     "data": {
      "text/html": [
       "<div>\n",
       "<style scoped>\n",
       "    .dataframe tbody tr th:only-of-type {\n",
       "        vertical-align: middle;\n",
       "    }\n",
       "\n",
       "    .dataframe tbody tr th {\n",
       "        vertical-align: top;\n",
       "    }\n",
       "\n",
       "    .dataframe thead th {\n",
       "        text-align: right;\n",
       "    }\n",
       "</style>\n",
       "<table border=\"1\" class=\"dataframe\">\n",
       "  <thead>\n",
       "    <tr style=\"text-align: right;\">\n",
       "      <th></th>\n",
       "      <th>ID</th>\n",
       "      <th>HEIGHT</th>\n",
       "      <th>WEIGHT</th>\n",
       "      <th>INTENSIVE CARE</th>\n",
       "      <th>INTUBATION</th>\n",
       "      <th>WBC 1</th>\n",
       "      <th>NE# 1</th>\n",
       "      <th>LY# 1</th>\n",
       "      <th>MO# 1</th>\n",
       "      <th>EO# 1</th>\n",
       "      <th>...</th>\n",
       "      <th>SEDIM 1</th>\n",
       "      <th>PT 1</th>\n",
       "      <th>APTT 1</th>\n",
       "      <th>INR 1</th>\n",
       "      <th>D-DIMER 1</th>\n",
       "      <th>FIBRINOGEN 1</th>\n",
       "      <th>PROCALCITONIN 1</th>\n",
       "      <th>IgA 1</th>\n",
       "      <th>IgM 1</th>\n",
       "      <th>IgG 1</th>\n",
       "    </tr>\n",
       "  </thead>\n",
       "  <tbody>\n",
       "    <tr>\n",
       "      <th>0</th>\n",
       "      <td>1</td>\n",
       "      <td>164.580078</td>\n",
       "      <td>74.953488</td>\n",
       "      <td>NO</td>\n",
       "      <td>NO</td>\n",
       "      <td>9.08</td>\n",
       "      <td>5.27</td>\n",
       "      <td>2.99</td>\n",
       "      <td>0.55</td>\n",
       "      <td>0.21</td>\n",
       "      <td>...</td>\n",
       "      <td>0</td>\n",
       "      <td>0.0</td>\n",
       "      <td>0.0</td>\n",
       "      <td>0.0</td>\n",
       "      <td>0</td>\n",
       "      <td>0</td>\n",
       "      <td>0.0</td>\n",
       "      <td>0.0</td>\n",
       "      <td>0.0</td>\n",
       "      <td>0.0</td>\n",
       "    </tr>\n",
       "    <tr>\n",
       "      <th>1</th>\n",
       "      <td>2</td>\n",
       "      <td>174.000000</td>\n",
       "      <td>87.000000</td>\n",
       "      <td>NO</td>\n",
       "      <td>NO</td>\n",
       "      <td>11.31</td>\n",
       "      <td>7.86</td>\n",
       "      <td>2.81</td>\n",
       "      <td>0.48</td>\n",
       "      <td>0.12</td>\n",
       "      <td>...</td>\n",
       "      <td>0</td>\n",
       "      <td>0.0</td>\n",
       "      <td>0.0</td>\n",
       "      <td>0.0</td>\n",
       "      <td>0</td>\n",
       "      <td>0</td>\n",
       "      <td>0.0</td>\n",
       "      <td>0.0</td>\n",
       "      <td>0.0</td>\n",
       "      <td>0.0</td>\n",
       "    </tr>\n",
       "    <tr>\n",
       "      <th>2</th>\n",
       "      <td>4</td>\n",
       "      <td>182.000000</td>\n",
       "      <td>93.000000</td>\n",
       "      <td>NO</td>\n",
       "      <td>NO</td>\n",
       "      <td>12.42</td>\n",
       "      <td>7.05</td>\n",
       "      <td>4.16</td>\n",
       "      <td>0.90</td>\n",
       "      <td>0.25</td>\n",
       "      <td>...</td>\n",
       "      <td>0</td>\n",
       "      <td>0.0</td>\n",
       "      <td>0.0</td>\n",
       "      <td>0.0</td>\n",
       "      <td>0</td>\n",
       "      <td>0</td>\n",
       "      <td>0.0</td>\n",
       "      <td>0.0</td>\n",
       "      <td>0.0</td>\n",
       "      <td>0.0</td>\n",
       "    </tr>\n",
       "    <tr>\n",
       "      <th>3</th>\n",
       "      <td>6</td>\n",
       "      <td>164.580078</td>\n",
       "      <td>74.953488</td>\n",
       "      <td>NO</td>\n",
       "      <td>NO</td>\n",
       "      <td>8.19</td>\n",
       "      <td>5.25</td>\n",
       "      <td>2.03</td>\n",
       "      <td>0.53</td>\n",
       "      <td>0.29</td>\n",
       "      <td>...</td>\n",
       "      <td>0</td>\n",
       "      <td>0.0</td>\n",
       "      <td>0.0</td>\n",
       "      <td>0.0</td>\n",
       "      <td>0</td>\n",
       "      <td>0</td>\n",
       "      <td>0.0</td>\n",
       "      <td>0.0</td>\n",
       "      <td>0.0</td>\n",
       "      <td>0.0</td>\n",
       "    </tr>\n",
       "    <tr>\n",
       "      <th>4</th>\n",
       "      <td>12</td>\n",
       "      <td>164.580078</td>\n",
       "      <td>74.953488</td>\n",
       "      <td>NO</td>\n",
       "      <td>NO</td>\n",
       "      <td>9.56</td>\n",
       "      <td>7.25</td>\n",
       "      <td>0.94</td>\n",
       "      <td>1.08</td>\n",
       "      <td>0.25</td>\n",
       "      <td>...</td>\n",
       "      <td>0</td>\n",
       "      <td>0.0</td>\n",
       "      <td>0.0</td>\n",
       "      <td>0.0</td>\n",
       "      <td>0</td>\n",
       "      <td>0</td>\n",
       "      <td>0.0</td>\n",
       "      <td>0.0</td>\n",
       "      <td>0.0</td>\n",
       "      <td>0.0</td>\n",
       "    </tr>\n",
       "  </tbody>\n",
       "</table>\n",
       "<p>5 rows × 37 columns</p>\n",
       "</div>"
      ],
      "text/plain": [
       "   ID      HEIGHT     WEIGHT INTENSIVE CARE INTUBATION  WBC 1  NE# 1  LY# 1  \\\n",
       "0   1  164.580078  74.953488             NO         NO   9.08   5.27   2.99   \n",
       "1   2  174.000000  87.000000             NO         NO  11.31   7.86   2.81   \n",
       "2   4  182.000000  93.000000             NO         NO  12.42   7.05   4.16   \n",
       "3   6  164.580078  74.953488             NO         NO   8.19   5.25   2.03   \n",
       "4  12  164.580078  74.953488             NO         NO   9.56   7.25   0.94   \n",
       "\n",
       "   MO# 1  EO# 1  ...  SEDIM 1  PT 1  APTT 1  INR 1  D-DIMER 1  FIBRINOGEN 1  \\\n",
       "0   0.55   0.21  ...        0   0.0     0.0    0.0          0             0   \n",
       "1   0.48   0.12  ...        0   0.0     0.0    0.0          0             0   \n",
       "2   0.90   0.25  ...        0   0.0     0.0    0.0          0             0   \n",
       "3   0.53   0.29  ...        0   0.0     0.0    0.0          0             0   \n",
       "4   1.08   0.25  ...        0   0.0     0.0    0.0          0             0   \n",
       "\n",
       "   PROCALCITONIN 1  IgA 1  IgM 1  IgG 1  \n",
       "0              0.0    0.0    0.0    0.0  \n",
       "1              0.0    0.0    0.0    0.0  \n",
       "2              0.0    0.0    0.0    0.0  \n",
       "3              0.0    0.0    0.0    0.0  \n",
       "4              0.0    0.0    0.0    0.0  \n",
       "\n",
       "[5 rows x 37 columns]"
      ]
     },
     "execution_count": 7,
     "metadata": {},
     "output_type": "execute_result"
    }
   ],
   "source": [
    "df.head()"
   ]
  },
  {
   "cell_type": "markdown",
   "id": "64ebd13b-2515-4c48-85b4-46eb589db50e",
   "metadata": {},
   "source": [
    "## INTUBATION"
   ]
  },
  {
   "cell_type": "code",
   "execution_count": 10,
   "id": "9490c16d-cd33-401d-9d3c-2cd715257b6a",
   "metadata": {},
   "outputs": [],
   "source": [
    "X_train, X_test, y_train, y_test = train_test_split(X,y,test_size=0.25)"
   ]
  },
  {
   "cell_type": "code",
   "execution_count": 11,
   "id": "248fdc32-2a8b-4a09-b996-e51c87391e62",
   "metadata": {},
   "outputs": [
    {
     "name": "stdout",
     "output_type": "stream",
     "text": [
      "[11:37:41] WARNING: C:/Users/Administrator/workspace/xgboost-win64_release_1.4.0/src/learner.cc:1095: Starting in XGBoost 1.3.0, the default evaluation metric used with the objective 'binary:logistic' was changed from 'error' to 'logloss'. Explicitly set eval_metric if you'd like to restore the old behavior.\n"
     ]
    }
   ],
   "source": [
    "xgb=XGBClassifier().fit(X_train, y_train)"
   ]
  },
  {
   "cell_type": "code",
   "execution_count": 12,
   "id": "4045e48c-8c34-4f8d-9f36-ce7738dff387",
   "metadata": {},
   "outputs": [
    {
     "data": {
      "text/plain": [
       "XGBClassifier(base_score=0.5, booster='gbtree', colsample_bylevel=1,\n",
       "              colsample_bynode=1, colsample_bytree=1, gamma=0, gpu_id=-1,\n",
       "              importance_type='gain', interaction_constraints='',\n",
       "              learning_rate=0.300000012, max_delta_step=0, max_depth=6,\n",
       "              min_child_weight=1, missing=nan, monotone_constraints='()',\n",
       "              n_estimators=100, n_jobs=4, num_parallel_tree=1, random_state=0,\n",
       "              reg_alpha=0, reg_lambda=1, scale_pos_weight=1, subsample=1,\n",
       "              tree_method='exact', validate_parameters=1, verbosity=None)"
      ]
     },
     "execution_count": 12,
     "metadata": {},
     "output_type": "execute_result"
    }
   ],
   "source": [
    "xgb"
   ]
  },
  {
   "cell_type": "code",
   "execution_count": 13,
   "id": "63408a7a-c3f9-4768-94f6-32a60f2754ae",
   "metadata": {},
   "outputs": [],
   "source": [
    "y_pred=xgb.predict(X_test)"
   ]
  },
  {
   "cell_type": "markdown",
   "id": "940f07dd-86ef-4336-b0df-bfbf6bee898a",
   "metadata": {},
   "source": [
    "## Model Tuning"
   ]
  },
  {
   "cell_type": "code",
   "execution_count": 14,
   "id": "e2bb4b52-d19e-49fc-92d3-957f4a1fdc2c",
   "metadata": {},
   "outputs": [],
   "source": [
    "xgb_params={\"learing_rate\":[0.1,0.01,0.5],\n",
    "           \"max_depth\":[2,3,4,4,8],\n",
    "           \"n_estimators\":[100,200,500,1000],\n",
    "           \"colsample_bytree\":[0.4,0.7,1]}"
   ]
  },
  {
   "cell_type": "code",
   "execution_count": 21,
   "id": "83e93dbe-c001-4b95-9ced-8f5053c425a3",
   "metadata": {},
   "outputs": [
    {
     "name": "stdout",
     "output_type": "stream",
     "text": [
      "Fitting 10 folds for each of 180 candidates, totalling 1800 fits\n",
      "[12:04:55] WARNING: C:/Users/Administrator/workspace/xgboost-win64_release_1.4.0/src/learner.cc:573: \n",
      "Parameters: { \"learing_rate\" } might not be used.\n",
      "\n",
      "  This may not be accurate due to some parameters are only used in language bindings but\n",
      "  passed down to XGBoost core.  Or some parameters are not used but slip through this\n",
      "  verification. Please open an issue if you find above cases.\n",
      "\n",
      "\n",
      "[12:04:55] WARNING: C:/Users/Administrator/workspace/xgboost-win64_release_1.4.0/src/learner.cc:1095: Starting in XGBoost 1.3.0, the default evaluation metric used with the objective 'binary:logistic' was changed from 'error' to 'logloss'. Explicitly set eval_metric if you'd like to restore the old behavior.\n"
     ]
    }
   ],
   "source": [
    "xgb_cv_model = GridSearchCV(xgb, xgb_params, cv=10, n_jobs=-1, verbose=2).fit(X_train, y_train)"
   ]
  },
  {
   "cell_type": "code",
   "execution_count": 52,
   "id": "056fda0b-3b78-4b01-8f91-ab6debe50eed",
   "metadata": {},
   "outputs": [
    {
     "name": "stdout",
     "output_type": "stream",
     "text": [
      "[14:57:20] WARNING: C:/Users/Administrator/workspace/xgboost-win64_release_1.4.0/src/learner.cc:573: \n",
      "Parameters: { \"learing_rate\" } might not be used.\n",
      "\n",
      "  This may not be accurate due to some parameters are only used in language bindings but\n",
      "  passed down to XGBoost core.  Or some parameters are not used but slip through this\n",
      "  verification. Please open an issue if you find above cases.\n",
      "\n",
      "\n",
      "[14:57:20] WARNING: C:/Users/Administrator/workspace/xgboost-win64_release_1.4.0/src/learner.cc:1095: Starting in XGBoost 1.3.0, the default evaluation metric used with the objective 'binary:logistic' was changed from 'error' to 'logloss'. Explicitly set eval_metric if you'd like to restore the old behavior.\n"
     ]
    }
   ],
   "source": [
    "##xgb_cv_model.best_params_\n",
    "xgb_model = XGBClassifier(learing_rate=0.1,\n",
    "                        max_depth=8,\n",
    "                        n_estimators=500,\n",
    "                        colsample_bytree=0.7)\n",
    "xgb_tuned=xgb_model.fit(X_train, y_train)"
   ]
  },
  {
   "cell_type": "code",
   "execution_count": 53,
   "id": "8e372d38-846f-4798-bcad-d5aec3a3deb8",
   "metadata": {},
   "outputs": [],
   "source": [
    "y_pred = xgb_tuned.predict(X_test)\n",
    "pred=pd.DataFrame({'INTUBATION':y_test, 'INTUBATION_PREDICT':y_pred})"
   ]
  },
  {
   "cell_type": "code",
   "execution_count": 54,
   "id": "865c8153-0bef-4a9c-b325-fbe2ce5e2598",
   "metadata": {},
   "outputs": [
    {
     "data": {
      "text/html": [
       "<div>\n",
       "<style scoped>\n",
       "    .dataframe tbody tr th:only-of-type {\n",
       "        vertical-align: middle;\n",
       "    }\n",
       "\n",
       "    .dataframe tbody tr th {\n",
       "        vertical-align: top;\n",
       "    }\n",
       "\n",
       "    .dataframe thead th {\n",
       "        text-align: right;\n",
       "    }\n",
       "</style>\n",
       "<table border=\"1\" class=\"dataframe\">\n",
       "  <thead>\n",
       "    <tr style=\"text-align: right;\">\n",
       "      <th></th>\n",
       "      <th>INTUBATION</th>\n",
       "      <th>INTUBATION_PREDICT</th>\n",
       "    </tr>\n",
       "  </thead>\n",
       "  <tbody>\n",
       "    <tr>\n",
       "      <th>969</th>\n",
       "      <td>NO</td>\n",
       "      <td>NO</td>\n",
       "    </tr>\n",
       "    <tr>\n",
       "      <th>179</th>\n",
       "      <td>NO</td>\n",
       "      <td>NO</td>\n",
       "    </tr>\n",
       "    <tr>\n",
       "      <th>470</th>\n",
       "      <td>NO</td>\n",
       "      <td>NO</td>\n",
       "    </tr>\n",
       "    <tr>\n",
       "      <th>1256</th>\n",
       "      <td>NO</td>\n",
       "      <td>NO</td>\n",
       "    </tr>\n",
       "    <tr>\n",
       "      <th>790</th>\n",
       "      <td>NO</td>\n",
       "      <td>NO</td>\n",
       "    </tr>\n",
       "    <tr>\n",
       "      <th>...</th>\n",
       "      <td>...</td>\n",
       "      <td>...</td>\n",
       "    </tr>\n",
       "    <tr>\n",
       "      <th>701</th>\n",
       "      <td>NO</td>\n",
       "      <td>NO</td>\n",
       "    </tr>\n",
       "    <tr>\n",
       "      <th>38</th>\n",
       "      <td>NO</td>\n",
       "      <td>NO</td>\n",
       "    </tr>\n",
       "    <tr>\n",
       "      <th>542</th>\n",
       "      <td>NO</td>\n",
       "      <td>NO</td>\n",
       "    </tr>\n",
       "    <tr>\n",
       "      <th>704</th>\n",
       "      <td>NO</td>\n",
       "      <td>NO</td>\n",
       "    </tr>\n",
       "    <tr>\n",
       "      <th>62</th>\n",
       "      <td>NO</td>\n",
       "      <td>NO</td>\n",
       "    </tr>\n",
       "  </tbody>\n",
       "</table>\n",
       "<p>360 rows × 2 columns</p>\n",
       "</div>"
      ],
      "text/plain": [
       "     INTUBATION INTUBATION_PREDICT\n",
       "969          NO                 NO\n",
       "179          NO                 NO\n",
       "470          NO                 NO\n",
       "1256         NO                 NO\n",
       "790          NO                 NO\n",
       "...         ...                ...\n",
       "701          NO                 NO\n",
       "38           NO                 NO\n",
       "542          NO                 NO\n",
       "704          NO                 NO\n",
       "62           NO                 NO\n",
       "\n",
       "[360 rows x 2 columns]"
      ]
     },
     "execution_count": 54,
     "metadata": {},
     "output_type": "execute_result"
    }
   ],
   "source": [
    "pred"
   ]
  },
  {
   "cell_type": "code",
   "execution_count": 55,
   "id": "81894650-9d04-43e8-bf02-ff7fab56cae4",
   "metadata": {},
   "outputs": [
    {
     "data": {
      "text/plain": [
       "array([[344,   1],\n",
       "       [ 15,   0]], dtype=int64)"
      ]
     },
     "execution_count": 55,
     "metadata": {},
     "output_type": "execute_result"
    }
   ],
   "source": [
    "confusion = metrics.confusion_matrix(pred.INTUBATION, pred.INTUBATION_PREDICT)\n",
    "confusion"
   ]
  },
  {
   "cell_type": "code",
   "execution_count": 56,
   "id": "4aa855fb-5731-4ac9-bcaf-2b721d7fb7eb",
   "metadata": {},
   "outputs": [],
   "source": [
    "TP = confusion[1,1] # true positive \n",
    "TN = confusion[0,0] # true negatives\n",
    "FP = confusion[0,1] # false positives\n",
    "FN = confusion[1,0] # false negatives"
   ]
  },
  {
   "cell_type": "code",
   "execution_count": 57,
   "id": "fe935a7a-1a7b-48d0-b788-ccd786bf2d88",
   "metadata": {},
   "outputs": [
    {
     "data": {
      "text/plain": [
       "0.0"
      ]
     },
     "execution_count": 57,
     "metadata": {},
     "output_type": "execute_result"
    }
   ],
   "source": [
    "\"Senvitiy:\" \n",
    "TP / float(TP+FN)"
   ]
  },
  {
   "cell_type": "code",
   "execution_count": 58,
   "id": "e136bd28-a172-4048-8d13-97b0001ed4b5",
   "metadata": {},
   "outputs": [
    {
     "data": {
      "text/plain": [
       "0.9971014492753624"
      ]
     },
     "execution_count": 58,
     "metadata": {},
     "output_type": "execute_result"
    }
   ],
   "source": [
    "\"Specificity:\"\n",
    "TN / float(TN+FP)"
   ]
  },
  {
   "cell_type": "code",
   "execution_count": 59,
   "id": "a04c2db5-c696-4b52-ab6e-3e2087b3fe82",
   "metadata": {},
   "outputs": [],
   "source": [
    "cl_report= classification_report(y_test,y_pred)"
   ]
  },
  {
   "cell_type": "code",
   "execution_count": 60,
   "id": "6b0e1f93-c5b2-4658-b244-f1d4bc86138b",
   "metadata": {},
   "outputs": [
    {
     "name": "stdout",
     "output_type": "stream",
     "text": [
      "              precision    recall  f1-score   support\n",
      "\n",
      "          NO       0.96      1.00      0.98       345\n",
      "         YES       0.00      0.00      0.00        15\n",
      "\n",
      "    accuracy                           0.96       360\n",
      "   macro avg       0.48      0.50      0.49       360\n",
      "weighted avg       0.92      0.96      0.94       360\n",
      "\n"
     ]
    }
   ],
   "source": [
    "print(cl_report)"
   ]
  },
  {
   "cell_type": "markdown",
   "id": "1c3fe995-880d-46a3-8cef-4707f78f3257",
   "metadata": {},
   "source": [
    "## INTENSIVE CARE"
   ]
  },
  {
   "cell_type": "code",
   "execution_count": 43,
   "id": "c04f4c3f-3867-49da-b854-97b839005bbe",
   "metadata": {},
   "outputs": [],
   "source": [
    "X_train, X_test, z_train, z_test = train_test_split(X,z,test_size=0.25)"
   ]
  },
  {
   "cell_type": "code",
   "execution_count": 44,
   "id": "d512856d-d1d3-4dbd-a3e7-6080b2a8b2f5",
   "metadata": {},
   "outputs": [
    {
     "name": "stdout",
     "output_type": "stream",
     "text": [
      "[14:45:52] WARNING: C:/Users/Administrator/workspace/xgboost-win64_release_1.4.0/src/learner.cc:1095: Starting in XGBoost 1.3.0, the default evaluation metric used with the objective 'binary:logistic' was changed from 'error' to 'logloss'. Explicitly set eval_metric if you'd like to restore the old behavior.\n"
     ]
    },
    {
     "data": {
      "text/plain": [
       "XGBClassifier(base_score=0.5, booster='gbtree', colsample_bylevel=1,\n",
       "              colsample_bynode=1, colsample_bytree=1, gamma=0, gpu_id=-1,\n",
       "              importance_type='gain', interaction_constraints='',\n",
       "              learning_rate=0.300000012, max_delta_step=0, max_depth=6,\n",
       "              min_child_weight=1, missing=nan, monotone_constraints='()',\n",
       "              n_estimators=100, n_jobs=4, num_parallel_tree=1, random_state=0,\n",
       "              reg_alpha=0, reg_lambda=1, scale_pos_weight=1, subsample=1,\n",
       "              tree_method='exact', validate_parameters=1, verbosity=None)"
      ]
     },
     "execution_count": 44,
     "metadata": {},
     "output_type": "execute_result"
    }
   ],
   "source": [
    "xgb_modelIC =XGBClassifier().fit(X_train, z_train)\n",
    "xgb_modelIC"
   ]
  },
  {
   "cell_type": "markdown",
   "id": "a3dee7f8-b9b1-43b7-9814-db69b813a5ed",
   "metadata": {},
   "source": [
    "## Model Tuning"
   ]
  },
  {
   "cell_type": "code",
   "execution_count": 45,
   "id": "843d0442-1692-4160-b65f-3311d5f75a38",
   "metadata": {},
   "outputs": [],
   "source": [
    "xgbIC_params={\"learing_rate\":[0.1,0.01,0.5],\n",
    "           \"max_depth\":[2,3,4,4,8],\n",
    "           \"n_estimators\":[100,200,500,1000],\n",
    "           \"colsample_bytree\":[0.4,0.7,1]}"
   ]
  },
  {
   "cell_type": "code",
   "execution_count": 46,
   "id": "1e112455-1c3d-4601-9047-24755be2a02b",
   "metadata": {},
   "outputs": [
    {
     "name": "stdout",
     "output_type": "stream",
     "text": [
      "Fitting 10 folds for each of 180 candidates, totalling 1800 fits\n",
      "[14:51:29] WARNING: C:/Users/Administrator/workspace/xgboost-win64_release_1.4.0/src/learner.cc:573: \n",
      "Parameters: { \"learing_rate\" } might not be used.\n",
      "\n",
      "  This may not be accurate due to some parameters are only used in language bindings but\n",
      "  passed down to XGBoost core.  Or some parameters are not used but slip through this\n",
      "  verification. Please open an issue if you find above cases.\n",
      "\n",
      "\n",
      "[14:51:29] WARNING: C:/Users/Administrator/workspace/xgboost-win64_release_1.4.0/src/learner.cc:1095: Starting in XGBoost 1.3.0, the default evaluation metric used with the objective 'binary:logistic' was changed from 'error' to 'logloss'. Explicitly set eval_metric if you'd like to restore the old behavior.\n"
     ]
    }
   ],
   "source": [
    "xgbIC_cv_model = GridSearchCV(xgb_modelIC, xgbIC_params, cv=10, n_jobs=-1, verbose=2).fit(X_train, z_train)"
   ]
  },
  {
   "cell_type": "code",
   "execution_count": 63,
   "id": "79113510-23b8-4203-a2b2-f8862ed88b04",
   "metadata": {},
   "outputs": [
    {
     "data": {
      "text/plain": [
       "{'colsample_bytree': 1,\n",
       " 'learing_rate': 0.1,\n",
       " 'max_depth': 3,\n",
       " 'n_estimators': 100}"
      ]
     },
     "execution_count": 63,
     "metadata": {},
     "output_type": "execute_result"
    }
   ],
   "source": [
    "xgbIC_cv_model.best_params_"
   ]
  },
  {
   "cell_type": "code",
   "execution_count": 65,
   "id": "3dbe73fa-3a2c-4b17-af92-109fc7e97574",
   "metadata": {},
   "outputs": [
    {
     "name": "stdout",
     "output_type": "stream",
     "text": [
      "[15:00:59] WARNING: C:/Users/Administrator/workspace/xgboost-win64_release_1.4.0/src/learner.cc:573: \n",
      "Parameters: { \"learing_rate\" } might not be used.\n",
      "\n",
      "  This may not be accurate due to some parameters are only used in language bindings but\n",
      "  passed down to XGBoost core.  Or some parameters are not used but slip through this\n",
      "  verification. Please open an issue if you find above cases.\n",
      "\n",
      "\n",
      "[15:00:59] WARNING: C:/Users/Administrator/workspace/xgboost-win64_release_1.4.0/src/learner.cc:1095: Starting in XGBoost 1.3.0, the default evaluation metric used with the objective 'binary:logistic' was changed from 'error' to 'logloss'. Explicitly set eval_metric if you'd like to restore the old behavior.\n"
     ]
    }
   ],
   "source": [
    "xgbIC_model = XGBClassifier(learing_rate=0.1,\n",
    "                        max_depth=3,\n",
    "                        n_estimators=100,\n",
    "                        colsample_bytree=1)\n",
    "xgbIC_tuned=xgbIC_model.fit(X_train, z_train)"
   ]
  },
  {
   "cell_type": "code",
   "execution_count": 68,
   "id": "4472cda8-d90c-4c2f-ad23-771c8c49515f",
   "metadata": {},
   "outputs": [],
   "source": [
    "z_pred = xgbIC_tuned.predict(X_test)\n",
    "pred=pd.DataFrame({'INTENSIVECARE':z_test, 'INTENSIVECARE_PREDICT':z_pred})"
   ]
  },
  {
   "cell_type": "code",
   "execution_count": 69,
   "id": "6aefba0f-1bf6-465e-996d-2170275bf70b",
   "metadata": {},
   "outputs": [
    {
     "data": {
      "text/html": [
       "<div>\n",
       "<style scoped>\n",
       "    .dataframe tbody tr th:only-of-type {\n",
       "        vertical-align: middle;\n",
       "    }\n",
       "\n",
       "    .dataframe tbody tr th {\n",
       "        vertical-align: top;\n",
       "    }\n",
       "\n",
       "    .dataframe thead th {\n",
       "        text-align: right;\n",
       "    }\n",
       "</style>\n",
       "<table border=\"1\" class=\"dataframe\">\n",
       "  <thead>\n",
       "    <tr style=\"text-align: right;\">\n",
       "      <th></th>\n",
       "      <th>INTENSIVECARE</th>\n",
       "      <th>INTENSIVECARE_PREDICT</th>\n",
       "    </tr>\n",
       "  </thead>\n",
       "  <tbody>\n",
       "    <tr>\n",
       "      <th>520</th>\n",
       "      <td>NO</td>\n",
       "      <td>NO</td>\n",
       "    </tr>\n",
       "    <tr>\n",
       "      <th>304</th>\n",
       "      <td>NO</td>\n",
       "      <td>NO</td>\n",
       "    </tr>\n",
       "    <tr>\n",
       "      <th>1272</th>\n",
       "      <td>NO</td>\n",
       "      <td>NO</td>\n",
       "    </tr>\n",
       "    <tr>\n",
       "      <th>613</th>\n",
       "      <td>NO</td>\n",
       "      <td>NO</td>\n",
       "    </tr>\n",
       "    <tr>\n",
       "      <th>1366</th>\n",
       "      <td>NO</td>\n",
       "      <td>NO</td>\n",
       "    </tr>\n",
       "    <tr>\n",
       "      <th>...</th>\n",
       "      <td>...</td>\n",
       "      <td>...</td>\n",
       "    </tr>\n",
       "    <tr>\n",
       "      <th>1092</th>\n",
       "      <td>NO</td>\n",
       "      <td>NO</td>\n",
       "    </tr>\n",
       "    <tr>\n",
       "      <th>744</th>\n",
       "      <td>NO</td>\n",
       "      <td>NO</td>\n",
       "    </tr>\n",
       "    <tr>\n",
       "      <th>1155</th>\n",
       "      <td>YES</td>\n",
       "      <td>YES</td>\n",
       "    </tr>\n",
       "    <tr>\n",
       "      <th>369</th>\n",
       "      <td>NO</td>\n",
       "      <td>NO</td>\n",
       "    </tr>\n",
       "    <tr>\n",
       "      <th>968</th>\n",
       "      <td>NO</td>\n",
       "      <td>NO</td>\n",
       "    </tr>\n",
       "  </tbody>\n",
       "</table>\n",
       "<p>360 rows × 2 columns</p>\n",
       "</div>"
      ],
      "text/plain": [
       "     INTENSIVECARE INTENSIVECARE_PREDICT\n",
       "520             NO                    NO\n",
       "304             NO                    NO\n",
       "1272            NO                    NO\n",
       "613             NO                    NO\n",
       "1366            NO                    NO\n",
       "...            ...                   ...\n",
       "1092            NO                    NO\n",
       "744             NO                    NO\n",
       "1155           YES                   YES\n",
       "369             NO                    NO\n",
       "968             NO                    NO\n",
       "\n",
       "[360 rows x 2 columns]"
      ]
     },
     "execution_count": 69,
     "metadata": {},
     "output_type": "execute_result"
    }
   ],
   "source": [
    "pred"
   ]
  },
  {
   "cell_type": "code",
   "execution_count": 70,
   "id": "9f008f9f-5686-4350-af22-958c4ef8256c",
   "metadata": {},
   "outputs": [
    {
     "data": {
      "text/plain": [
       "array([[317,   7],\n",
       "       [ 21,  15]], dtype=int64)"
      ]
     },
     "execution_count": 70,
     "metadata": {},
     "output_type": "execute_result"
    }
   ],
   "source": [
    "confusion = metrics.confusion_matrix(pred.INTENSIVECARE, pred.INTENSIVECARE_PREDICT)\n",
    "confusion"
   ]
  },
  {
   "cell_type": "code",
   "execution_count": 71,
   "id": "dd472043-1803-40cc-a074-c4453f8eb685",
   "metadata": {},
   "outputs": [],
   "source": [
    "TP = confusion[1,1] # true positive \n",
    "TN = confusion[0,0] # true negatives\n",
    "FP = confusion[0,1] # false positives\n",
    "FN = confusion[1,0] # false negatives"
   ]
  },
  {
   "cell_type": "code",
   "execution_count": 72,
   "id": "0dd5ec77-b962-4190-8e0f-c5a6e23c14c9",
   "metadata": {},
   "outputs": [
    {
     "data": {
      "text/plain": [
       "0.4166666666666667"
      ]
     },
     "execution_count": 72,
     "metadata": {},
     "output_type": "execute_result"
    }
   ],
   "source": [
    "\"Senvitiy:\" \n",
    "TP / float(TP+FN)"
   ]
  },
  {
   "cell_type": "code",
   "execution_count": 73,
   "id": "ae9ee209-8802-4f75-af62-7b59e67726ad",
   "metadata": {},
   "outputs": [
    {
     "data": {
      "text/plain": [
       "0.9783950617283951"
      ]
     },
     "execution_count": 73,
     "metadata": {},
     "output_type": "execute_result"
    }
   ],
   "source": [
    "\"Specificity:\"\n",
    "TN / float(TN+FP)"
   ]
  },
  {
   "cell_type": "code",
   "execution_count": 74,
   "id": "a75cc295-1724-4b27-ad1d-aa4bfee009a1",
   "metadata": {},
   "outputs": [],
   "source": [
    "cl_report= classification_report(y_test,y_pred)"
   ]
  },
  {
   "cell_type": "code",
   "execution_count": 75,
   "id": "1f0882bf-2646-4523-8097-f0900eef8300",
   "metadata": {},
   "outputs": [
    {
     "name": "stdout",
     "output_type": "stream",
     "text": [
      "              precision    recall  f1-score   support\n",
      "\n",
      "          NO       0.96      1.00      0.98       345\n",
      "         YES       0.00      0.00      0.00        15\n",
      "\n",
      "    accuracy                           0.96       360\n",
      "   macro avg       0.48      0.50      0.49       360\n",
      "weighted avg       0.92      0.96      0.94       360\n",
      "\n"
     ]
    }
   ],
   "source": [
    "print(cl_report)"
   ]
  },
  {
   "cell_type": "code",
   "execution_count": null,
   "id": "4d33fb0c-c377-4a9f-b562-6eaee1254d70",
   "metadata": {},
   "outputs": [],
   "source": []
  }
 ],
 "metadata": {
  "kernelspec": {
   "display_name": "Python 3",
   "language": "python",
   "name": "python3"
  },
  "language_info": {
   "codemirror_mode": {
    "name": "ipython",
    "version": 3
   },
   "file_extension": ".py",
   "mimetype": "text/x-python",
   "name": "python",
   "nbconvert_exporter": "python",
   "pygments_lexer": "ipython3",
   "version": "3.8.7"
  }
 },
 "nbformat": 4,
 "nbformat_minor": 5
}
